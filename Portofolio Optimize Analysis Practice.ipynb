{
  "cells": [
    {
      "cell_type": "markdown",
      "metadata": {
        "id": "MFyqatyi8Dho"
      },
      "source": [
        "## Group Assignment"
      ]
    },
    {
      "cell_type": "code",
      "execution_count": 1,
      "metadata": {
        "id": "0qFU5IJcSKZm",
        "outputId": "2b972285-4180-44ef-9e3b-92b84b3962a1"
      },
      "outputs": [
        {
          "name": "stdout",
          "output_type": "stream",
          "text": [
            "Collecting PyPortfolioOpt\n",
            "  Using cached pyportfolioopt-1.5.4-py3-none-any.whl (61 kB)\n",
            "Collecting cvxpy<2.0.0,>=1.1.10\n",
            "  Using cached cvxpy-1.3.1-cp310-cp310-macosx_10_9_universal2.whl (1.2 MB)\n",
            "Requirement already satisfied: numpy<2.0.0,>=1.22.4 in /Library/Frameworks/Python.framework/Versions/3.10/lib/python3.10/site-packages (from PyPortfolioOpt) (1.24.2)\n",
            "Requirement already satisfied: scipy<2.0,>=1.3 in /Library/Frameworks/Python.framework/Versions/3.10/lib/python3.10/site-packages (from PyPortfolioOpt) (1.10.1)\n",
            "Requirement already satisfied: pandas>=0.19 in /Library/Frameworks/Python.framework/Versions/3.10/lib/python3.10/site-packages (from PyPortfolioOpt) (1.5.3)\n",
            "Collecting osqp>=0.4.1\n",
            "  Using cached osqp-0.6.2.post9.tar.gz (227 kB)\n",
            "  Installing build dependencies ... \u001b[?25lerror\n",
            "  \u001b[1;31merror\u001b[0m: \u001b[1msubprocess-exited-with-error\u001b[0m\n",
            "  \n",
            "  \u001b[31m×\u001b[0m \u001b[32mpip subprocess to install build dependencies\u001b[0m did not run successfully.\n",
            "  \u001b[31m│\u001b[0m exit code: \u001b[1;36m1\u001b[0m\n",
            "  \u001b[31m╰─>\u001b[0m \u001b[31m[110 lines of output]\u001b[0m\n",
            "  \u001b[31m   \u001b[0m Collecting oldest-supported-numpy\n",
            "  \u001b[31m   \u001b[0m   Using cached oldest_supported_numpy-2022.11.19-py3-none-any.whl (4.9 kB)\n",
            "  \u001b[31m   \u001b[0m Collecting setuptools>=40.8.0\n",
            "  \u001b[31m   \u001b[0m   Using cached setuptools-67.6.1-py3-none-any.whl (1.1 MB)\n",
            "  \u001b[31m   \u001b[0m Collecting wheel\n",
            "  \u001b[31m   \u001b[0m   Using cached wheel-0.40.0-py3-none-any.whl (64 kB)\n",
            "  \u001b[31m   \u001b[0m Collecting setuptools_scm>=6.2\n",
            "  \u001b[31m   \u001b[0m   Using cached setuptools_scm-7.1.0-py3-none-any.whl (43 kB)\n",
            "  \u001b[31m   \u001b[0m Collecting qdldl\n",
            "  \u001b[31m   \u001b[0m   Using cached qdldl-0.1.7.tar.gz (70 kB)\n",
            "  \u001b[31m   \u001b[0m   Installing build dependencies: started\n",
            "  \u001b[31m   \u001b[0m   Installing build dependencies: finished with status 'done'\n",
            "  \u001b[31m   \u001b[0m   Getting requirements to build wheel: started\n",
            "  \u001b[31m   \u001b[0m   Getting requirements to build wheel: finished with status 'done'\n",
            "  \u001b[31m   \u001b[0m   Installing backend dependencies: started\n",
            "  \u001b[31m   \u001b[0m   Installing backend dependencies: finished with status 'done'\n",
            "  \u001b[31m   \u001b[0m   Preparing metadata (pyproject.toml): started\n",
            "  \u001b[31m   \u001b[0m   Preparing metadata (pyproject.toml): finished with status 'done'\n",
            "  \u001b[31m   \u001b[0m Collecting numpy==1.21.6\n",
            "  \u001b[31m   \u001b[0m   Using cached numpy-1.21.6-cp310-cp310-macosx_11_0_arm64.whl (12.4 MB)\n",
            "  \u001b[31m   \u001b[0m Collecting typing-extensions\n",
            "  \u001b[31m   \u001b[0m   Using cached typing_extensions-4.5.0-py3-none-any.whl (27 kB)\n",
            "  \u001b[31m   \u001b[0m Collecting packaging>=20.0\n",
            "  \u001b[31m   \u001b[0m   Using cached packaging-23.1-py3-none-any.whl (48 kB)\n",
            "  \u001b[31m   \u001b[0m Collecting tomli>=1.0.0\n",
            "  \u001b[31m   \u001b[0m   Using cached tomli-2.0.1-py3-none-any.whl (12 kB)\n",
            "  \u001b[31m   \u001b[0m Collecting scipy>=0.13.2\n",
            "  \u001b[31m   \u001b[0m   Using cached scipy-1.10.1-cp310-cp310-macosx_12_0_arm64.whl (28.8 MB)\n",
            "  \u001b[31m   \u001b[0m Building wheels for collected packages: qdldl\n",
            "  \u001b[31m   \u001b[0m   Building wheel for qdldl (pyproject.toml): started\n",
            "  \u001b[31m   \u001b[0m   Building wheel for qdldl (pyproject.toml): finished with status 'error'\n",
            "  \u001b[31m   \u001b[0m   error: subprocess-exited-with-error\n",
            "  \u001b[31m   \u001b[0m \n",
            "  \u001b[31m   \u001b[0m   × Building wheel for qdldl (pyproject.toml) did not run successfully.\n",
            "  \u001b[31m   \u001b[0m   │ exit code: 1\n",
            "  \u001b[31m   \u001b[0m   ╰─> [65 lines of output]\n",
            "  \u001b[31m   \u001b[0m       running bdist_wheel\n",
            "  \u001b[31m   \u001b[0m       running build\n",
            "  \u001b[31m   \u001b[0m       running build_ext\n",
            "  \u001b[31m   \u001b[0m       Traceback (most recent call last):\n",
            "  \u001b[31m   \u001b[0m         File \"<string>\", line 81, in build_extensions\n",
            "  \u001b[31m   \u001b[0m         File \"/Library/Frameworks/Python.framework/Versions/3.10/lib/python3.10/subprocess.py\", line 420, in check_output\n",
            "  \u001b[31m   \u001b[0m           return run(*popenargs, stdout=PIPE, timeout=timeout, check=True,\n",
            "  \u001b[31m   \u001b[0m         File \"/Library/Frameworks/Python.framework/Versions/3.10/lib/python3.10/subprocess.py\", line 501, in run\n",
            "  \u001b[31m   \u001b[0m           with Popen(*popenargs, **kwargs) as process:\n",
            "  \u001b[31m   \u001b[0m         File \"/Library/Frameworks/Python.framework/Versions/3.10/lib/python3.10/subprocess.py\", line 966, in __init__\n",
            "  \u001b[31m   \u001b[0m           self._execute_child(args, executable, preexec_fn, close_fds,\n",
            "  \u001b[31m   \u001b[0m         File \"/Library/Frameworks/Python.framework/Versions/3.10/lib/python3.10/subprocess.py\", line 1842, in _execute_child\n",
            "  \u001b[31m   \u001b[0m           raise child_exception_type(errno_num, err_msg, err_filename)\n",
            "  \u001b[31m   \u001b[0m       FileNotFoundError: [Errno 2] No such file or directory: 'cmake'\n",
            "  \u001b[31m   \u001b[0m \n",
            "  \u001b[31m   \u001b[0m       During handling of the above exception, another exception occurred:\n",
            "  \u001b[31m   \u001b[0m \n",
            "  \u001b[31m   \u001b[0m       Traceback (most recent call last):\n",
            "  \u001b[31m   \u001b[0m         File \"/Library/Frameworks/Python.framework/Versions/3.10/lib/python3.10/site-packages/pip/_vendor/pyproject_hooks/_in_process/_in_process.py\", line 353, in <module>\n",
            "  \u001b[31m   \u001b[0m           main()\n",
            "  \u001b[31m   \u001b[0m         File \"/Library/Frameworks/Python.framework/Versions/3.10/lib/python3.10/site-packages/pip/_vendor/pyproject_hooks/_in_process/_in_process.py\", line 335, in main\n",
            "  \u001b[31m   \u001b[0m           json_out['return_val'] = hook(**hook_input['kwargs'])\n",
            "  \u001b[31m   \u001b[0m         File \"/Library/Frameworks/Python.framework/Versions/3.10/lib/python3.10/site-packages/pip/_vendor/pyproject_hooks/_in_process/_in_process.py\", line 251, in build_wheel\n",
            "  \u001b[31m   \u001b[0m           return _build_backend().build_wheel(wheel_directory, config_settings,\n",
            "  \u001b[31m   \u001b[0m         File \"/private/var/folders/m6/wxc9fp790875bb7z5jw_q5c80000gn/T/pip-build-env-dvu9vrvu/overlay/lib/python3.10/site-packages/setuptools/build_meta.py\", line 413, in build_wheel\n",
            "  \u001b[31m   \u001b[0m           return self._build_with_temp_dir(['bdist_wheel'], '.whl',\n",
            "  \u001b[31m   \u001b[0m         File \"/private/var/folders/m6/wxc9fp790875bb7z5jw_q5c80000gn/T/pip-build-env-dvu9vrvu/overlay/lib/python3.10/site-packages/setuptools/build_meta.py\", line 398, in _build_with_temp_dir\n",
            "  \u001b[31m   \u001b[0m           self.run_setup()\n",
            "  \u001b[31m   \u001b[0m         File \"/private/var/folders/m6/wxc9fp790875bb7z5jw_q5c80000gn/T/pip-build-env-dvu9vrvu/overlay/lib/python3.10/site-packages/setuptools/build_meta.py\", line 335, in run_setup\n",
            "  \u001b[31m   \u001b[0m           exec(code, locals())\n",
            "  \u001b[31m   \u001b[0m         File \"<string>\", line 113, in <module>\n",
            "  \u001b[31m   \u001b[0m         File \"/private/var/folders/m6/wxc9fp790875bb7z5jw_q5c80000gn/T/pip-build-env-dvu9vrvu/overlay/lib/python3.10/site-packages/setuptools/__init__.py\", line 108, in setup\n",
            "  \u001b[31m   \u001b[0m           return distutils.core.setup(**attrs)\n",
            "  \u001b[31m   \u001b[0m         File \"/private/var/folders/m6/wxc9fp790875bb7z5jw_q5c80000gn/T/pip-build-env-dvu9vrvu/overlay/lib/python3.10/site-packages/setuptools/_distutils/core.py\", line 185, in setup\n",
            "  \u001b[31m   \u001b[0m           return run_commands(dist)\n",
            "  \u001b[31m   \u001b[0m         File \"/private/var/folders/m6/wxc9fp790875bb7z5jw_q5c80000gn/T/pip-build-env-dvu9vrvu/overlay/lib/python3.10/site-packages/setuptools/_distutils/core.py\", line 201, in run_commands\n",
            "  \u001b[31m   \u001b[0m           dist.run_commands()\n",
            "  \u001b[31m   \u001b[0m         File \"/private/var/folders/m6/wxc9fp790875bb7z5jw_q5c80000gn/T/pip-build-env-dvu9vrvu/overlay/lib/python3.10/site-packages/setuptools/_distutils/dist.py\", line 969, in run_commands\n",
            "  \u001b[31m   \u001b[0m           self.run_command(cmd)\n",
            "  \u001b[31m   \u001b[0m         File \"/private/var/folders/m6/wxc9fp790875bb7z5jw_q5c80000gn/T/pip-build-env-dvu9vrvu/overlay/lib/python3.10/site-packages/setuptools/dist.py\", line 1221, in run_command\n",
            "  \u001b[31m   \u001b[0m           super().run_command(command)\n",
            "  \u001b[31m   \u001b[0m         File \"/private/var/folders/m6/wxc9fp790875bb7z5jw_q5c80000gn/T/pip-build-env-dvu9vrvu/overlay/lib/python3.10/site-packages/setuptools/_distutils/dist.py\", line 988, in run_command\n",
            "  \u001b[31m   \u001b[0m           cmd_obj.run()\n",
            "  \u001b[31m   \u001b[0m         File \"/private/var/folders/m6/wxc9fp790875bb7z5jw_q5c80000gn/T/pip-build-env-dvu9vrvu/normal/lib/python3.10/site-packages/wheel/bdist_wheel.py\", line 343, in run\n",
            "  \u001b[31m   \u001b[0m           self.run_command(\"build\")\n",
            "  \u001b[31m   \u001b[0m         File \"/private/var/folders/m6/wxc9fp790875bb7z5jw_q5c80000gn/T/pip-build-env-dvu9vrvu/overlay/lib/python3.10/site-packages/setuptools/_distutils/cmd.py\", line 318, in run_command\n",
            "  \u001b[31m   \u001b[0m           self.distribution.run_command(command)\n",
            "  \u001b[31m   \u001b[0m         File \"/private/var/folders/m6/wxc9fp790875bb7z5jw_q5c80000gn/T/pip-build-env-dvu9vrvu/overlay/lib/python3.10/site-packages/setuptools/dist.py\", line 1221, in run_command\n",
            "  \u001b[31m   \u001b[0m           super().run_command(command)\n",
            "  \u001b[31m   \u001b[0m         File \"/private/var/folders/m6/wxc9fp790875bb7z5jw_q5c80000gn/T/pip-build-env-dvu9vrvu/overlay/lib/python3.10/site-packages/setuptools/_distutils/dist.py\", line 988, in run_command\n",
            "  \u001b[31m   \u001b[0m           cmd_obj.run()\n",
            "  \u001b[31m   \u001b[0m         File \"/private/var/folders/m6/wxc9fp790875bb7z5jw_q5c80000gn/T/pip-build-env-dvu9vrvu/overlay/lib/python3.10/site-packages/setuptools/_distutils/command/build.py\", line 131, in run\n",
            "  \u001b[31m   \u001b[0m           self.run_command(cmd_name)\n",
            "  \u001b[31m   \u001b[0m         File \"/private/var/folders/m6/wxc9fp790875bb7z5jw_q5c80000gn/T/pip-build-env-dvu9vrvu/overlay/lib/python3.10/site-packages/setuptools/_distutils/cmd.py\", line 318, in run_command\n",
            "  \u001b[31m   \u001b[0m           self.distribution.run_command(command)\n",
            "  \u001b[31m   \u001b[0m         File \"/private/var/folders/m6/wxc9fp790875bb7z5jw_q5c80000gn/T/pip-build-env-dvu9vrvu/overlay/lib/python3.10/site-packages/setuptools/dist.py\", line 1221, in run_command\n",
            "  \u001b[31m   \u001b[0m           super().run_command(command)\n",
            "  \u001b[31m   \u001b[0m         File \"/private/var/folders/m6/wxc9fp790875bb7z5jw_q5c80000gn/T/pip-build-env-dvu9vrvu/overlay/lib/python3.10/site-packages/setuptools/_distutils/dist.py\", line 988, in run_command\n",
            "  \u001b[31m   \u001b[0m           cmd_obj.run()\n",
            "  \u001b[31m   \u001b[0m         File \"/private/var/folders/m6/wxc9fp790875bb7z5jw_q5c80000gn/T/pip-build-env-dvu9vrvu/overlay/lib/python3.10/site-packages/setuptools/command/build_ext.py\", line 84, in run\n",
            "  \u001b[31m   \u001b[0m           _build_ext.run(self)\n",
            "  \u001b[31m   \u001b[0m         File \"/private/var/folders/m6/wxc9fp790875bb7z5jw_q5c80000gn/T/pip-build-env-dvu9vrvu/overlay/lib/python3.10/site-packages/setuptools/_distutils/command/build_ext.py\", line 345, in run\n",
            "  \u001b[31m   \u001b[0m           self.build_extensions()\n",
            "  \u001b[31m   \u001b[0m         File \"<string>\", line 83, in build_extensions\n",
            "  \u001b[31m   \u001b[0m       RuntimeError: CMake must be installed to build qdldl\n",
            "  \u001b[31m   \u001b[0m       [end of output]\n",
            "  \u001b[31m   \u001b[0m \n",
            "  \u001b[31m   \u001b[0m   note: This error originates from a subprocess, and is likely not a problem with pip.\n",
            "  \u001b[31m   \u001b[0m   ERROR: Failed building wheel for qdldl\n",
            "  \u001b[31m   \u001b[0m Failed to build qdldl\n",
            "  \u001b[31m   \u001b[0m ERROR: Could not build wheels for qdldl, which is required to install pyproject.toml-based projects\n",
            "  \u001b[31m   \u001b[0m \n",
            "  \u001b[31m   \u001b[0m [notice] A new release of pip is available: 23.0.1 -> 23.1\n",
            "  \u001b[31m   \u001b[0m [notice] To update, run: pip3.10 install --upgrade pip\n",
            "  \u001b[31m   \u001b[0m \u001b[31m[end of output]\u001b[0m\n",
            "  \n",
            "  \u001b[1;35mnote\u001b[0m: This error originates from a subprocess, and is likely not a problem with pip.\n",
            "\u001b[?25h\u001b[1;31merror\u001b[0m: \u001b[1msubprocess-exited-with-error\u001b[0m\n",
            "\n",
            "\u001b[31m×\u001b[0m \u001b[32mpip subprocess to install build dependencies\u001b[0m did not run successfully.\n",
            "\u001b[31m│\u001b[0m exit code: \u001b[1;36m1\u001b[0m\n",
            "\u001b[31m╰─>\u001b[0m See above for output.\n",
            "\n",
            "\u001b[1;35mnote\u001b[0m: This error originates from a subprocess, and is likely not a problem with pip.\n",
            "\n",
            "\u001b[1m[\u001b[0m\u001b[34;49mnotice\u001b[0m\u001b[1;39;49m]\u001b[0m\u001b[39;49m A new release of pip is available: \u001b[0m\u001b[31;49m23.0.1\u001b[0m\u001b[39;49m -> \u001b[0m\u001b[32;49m23.1\u001b[0m\n",
            "\u001b[1m[\u001b[0m\u001b[34;49mnotice\u001b[0m\u001b[1;39;49m]\u001b[0m\u001b[39;49m To update, run: \u001b[0m\u001b[32;49mpip3.10 install --upgrade pip\u001b[0m\n",
            "Note: you may need to restart the kernel to use updated packages.\n"
          ]
        }
      ],
      "source": [
        "pip install PyPortfolioOpt"
      ]
    },
    {
      "cell_type": "markdown",
      "metadata": {
        "id": "satuQZT_8Dhq"
      },
      "source": [
        "#### Import the necessary libraries"
      ]
    },
    {
      "cell_type": "code",
      "execution_count": 2,
      "metadata": {
        "colab": {
          "base_uri": "https://localhost:8080/",
          "height": 383
        },
        "id": "529-Q4m48Dhr",
        "outputId": "e8a0dd49-5efb-4a37-b8bd-71d20b3d2b3b"
      },
      "outputs": [
        {
          "ename": "ModuleNotFoundError",
          "evalue": "No module named 'pypfopt'",
          "output_type": "error",
          "traceback": [
            "\u001b[0;31m---------------------------------------------------------------------------\u001b[0m",
            "\u001b[0;31mModuleNotFoundError\u001b[0m                       Traceback (most recent call last)",
            "\u001b[1;32m/Users/chengyixu/Desktop/Exams new/0412/Group_Assignment_new.ipynb Cell 4\u001b[0m in \u001b[0;36m6\n\u001b[1;32m      <a href='vscode-notebook-cell:/Users/chengyixu/Desktop/Exams%20new/0412/Group_Assignment_new.ipynb#W3sZmlsZQ%3D%3D?line=3'>4</a>\u001b[0m \u001b[39mimport\u001b[39;00m \u001b[39mpandas\u001b[39;00m \u001b[39mas\u001b[39;00m \u001b[39mpd\u001b[39;00m\n\u001b[1;32m      <a href='vscode-notebook-cell:/Users/chengyixu/Desktop/Exams%20new/0412/Group_Assignment_new.ipynb#W3sZmlsZQ%3D%3D?line=4'>5</a>\u001b[0m \u001b[39mimport\u001b[39;00m \u001b[39mnumpy\u001b[39;00m \u001b[39mas\u001b[39;00m \u001b[39mnp\u001b[39;00m\n\u001b[0;32m----> <a href='vscode-notebook-cell:/Users/chengyixu/Desktop/Exams%20new/0412/Group_Assignment_new.ipynb#W3sZmlsZQ%3D%3D?line=5'>6</a>\u001b[0m \u001b[39mfrom\u001b[39;00m \u001b[39mpypfopt\u001b[39;00m \u001b[39mimport\u001b[39;00m EfficientFrontier, risk_models, expected_returns\n\u001b[1;32m      <a href='vscode-notebook-cell:/Users/chengyixu/Desktop/Exams%20new/0412/Group_Assignment_new.ipynb#W3sZmlsZQ%3D%3D?line=6'>7</a>\u001b[0m \u001b[39mfrom\u001b[39;00m \u001b[39mscipy\u001b[39;00m\u001b[39m.\u001b[39;00m\u001b[39moptimize\u001b[39;00m \u001b[39mimport\u001b[39;00m minimize\n\u001b[1;32m      <a href='vscode-notebook-cell:/Users/chengyixu/Desktop/Exams%20new/0412/Group_Assignment_new.ipynb#W3sZmlsZQ%3D%3D?line=7'>8</a>\u001b[0m \u001b[39mimport\u001b[39;00m \u001b[39mdatetime\u001b[39;00m \u001b[39mas\u001b[39;00m \u001b[39mdt\u001b[39;00m\n",
            "\u001b[0;31mModuleNotFoundError\u001b[0m: No module named 'pypfopt'"
          ]
        }
      ],
      "source": [
        "import numpy as np\n",
        "import pandas as pd\n",
        "import yfinance as yf\n",
        "import pandas as pd\n",
        "import numpy as np\n",
        "from pypfopt import EfficientFrontier, risk_models, expected_returns\n",
        "from scipy.optimize import minimize\n",
        "import datetime as dt\n"
      ]
    },
    {
      "cell_type": "markdown",
      "metadata": {
        "id": "6WU3F-T28Dhs"
      },
      "source": [
        "#### All questions in Parts I and II apply to a random sample of 15 stocks that your group will be assigned by running the following code."
      ]
    },
    {
      "cell_type": "markdown",
      "metadata": {
        "id": "uPvlM5gY8Dhs"
      },
      "source": [
        "#### Random Sample Selection "
      ]
    },
    {
      "cell_type": "code",
      "execution_count": null,
      "metadata": {
        "colab": {
          "base_uri": "https://localhost:8080/"
        },
        "id": "_Q4hiJJy8Dhs",
        "outputId": "b1a624b6-1d6b-45be-9651-fa0a494042a6"
      },
      "outputs": [
        {
          "name": "stdout",
          "output_type": "stream",
          "text": [
            "[*********************100%***********************]  15 of 15 completed\n"
          ]
        }
      ],
      "source": [
        "# Defining the ticker list and getting the data for the stocks\n",
        "np.random.seed(20515)\n",
        "ticker_list = ['AAPL', 'AXP', 'BA', 'C','CAT', 'CSCO', 'CVX', 'DIS', 'GS', 'HD', 'IBM', 'INTC', 'JNJ', 'JPM', 'KO',\n",
        "            'MCD', 'MMM', 'MRK', 'MSFT', 'NKE', 'PFE', 'PG', 'TRV', 'UNH', 'V', 'VZ', 'WMT', 'XOM']\n",
        "stock_list = np.random.choice(ticker_list, 15, replace=False)\n",
        "stock_str = \",\".join(stock_list)\n",
        "start_date = dt.datetime(2015, 1, 1)\n",
        "end_date = dt.datetime(2019, 12, 31)\n",
        "data = yf.download(stock_str, start=start_date, end=end_date)"
      ]
    },
    {
      "cell_type": "markdown",
      "metadata": {
        "id": "DmQGZm9u8Dhs"
      },
      "source": [
        "### PART I"
      ]
    },
    {
      "cell_type": "markdown",
      "metadata": {
        "id": "HHdm1LSL8Dhs"
      },
      "source": [
        "#### 1. Find the optimal portfolio over the period January 2015 - December 2019, using the fifteen stocks assigned to your group. Assume there are no short-selling constraints."
      ]
    },
    {
      "cell_type": "code",
      "execution_count": null,
      "metadata": {
        "id": "focvmrWM-neo"
      },
      "outputs": [],
      "source": [
        "# Importing the necessary libraries\n",
        "import yfinance as yf\n",
        "import pandas as pd\n",
        "import numpy as np\n",
        "import datetime as dt\n",
        "from scipy.optimize import minimize\n",
        "\n",
        "# Defining the start and end dates for the data\n",
        "start_date = dt.datetime(2015, 1, 1)\n",
        "end_date = dt.datetime(2019, 12, 31)\n",
        "\n",
        "# Selecting the 'Adj Close' column and calculating the monthly returns for each stock\n",
        "returns = data['Adj Close'].pct_change().dropna()\n",
        "\n",
        "# Calculating the covariance and mean of the returns\n",
        "covariance = returns.cov().values\n",
        "mean_returns = returns.mean().values\n",
        "\n",
        "# Defining the objective function for the optimization\n",
        "def objective(weights):\n",
        "    port_return = np.sum(mean_returns * weights) * 12\n",
        "    port_volatility = np.sqrt(np.dot(weights.T, np.dot(covariance, weights))) * np.sqrt(12)\n",
        "    return -port_return/port_volatility\n",
        "\n",
        "# Defining the constraints for the optimization\n",
        "constraints = ({'type': 'eq', 'fun': lambda x: np.sum(x) - 1})\n",
        "\n",
        "# Defining the bounds for the optimization\n",
        "bounds = tuple((0, 1) for i in range(len(stock_list)))\n",
        "\n",
        "# Running the optimization\n",
        "result = minimize(objective, len(stock_list)*[1./len(stock_list)], method='SLSQP', bounds=bounds, constraints=constraints)\n",
        "weights = result.x\n"
      ]
    },
    {
      "cell_type": "markdown",
      "metadata": {
        "id": "_Vv11ePk8Dht"
      },
      "source": [
        "#### 2. What are the weights of the stocks in the optimal portfolio?"
      ]
    },
    {
      "cell_type": "code",
      "execution_count": null,
      "metadata": {
        "colab": {
          "base_uri": "https://localhost:8080/"
        },
        "id": "hbi8cM1L8Dht",
        "outputId": "d5c70ff3-0300-4cc0-a36d-55b3f63e523e"
      },
      "outputs": [
        {
          "name": "stdout",
          "output_type": "stream",
          "text": [
            "Weights of the stocks in the optimal portfolio:\n",
            "PG 0.0824\n",
            "PFE 0.1378\n",
            "XOM 0.0\n",
            "BA 0.0\n",
            "MCD 0.1128\n",
            "DIS 0.0\n",
            "MMM 0.0\n",
            "IBM 0.0\n",
            "MRK 0.3794\n",
            "HD 0.0\n",
            "MSFT 0.0292\n",
            "KO 0.2583\n",
            "INTC 0.0\n",
            "AAPL 0.0\n",
            "C 0.0\n"
          ]
        }
      ],
      "source": [
        "# Printing the weights of the stocks in the optimal portfolio\n",
        "print(\"Weights of the stocks in the optimal portfolio:\")\n",
        "for i in range(len(stock_list)):\n",
        "    print(stock_list[i], round(weights[i], 4))"
      ]
    },
    {
      "cell_type": "markdown",
      "metadata": {
        "id": "qLHHm-y68Dht"
      },
      "source": [
        "#### 3. What was the annualized average monthly return for the optimal portfolio?"
      ]
    },
    {
      "cell_type": "code",
      "execution_count": null,
      "metadata": {
        "colab": {
          "base_uri": "https://localhost:8080/"
        },
        "id": "c9UkSJiR8Dht",
        "outputId": "d91b3072-ef16-4ff2-a520-fd50a27af556"
      },
      "outputs": [
        {
          "name": "stdout",
          "output_type": "stream",
          "text": [
            "\n",
            "Annualized average monthly return for the optimal portfolio:  0.3328\n"
          ]
        }
      ],
      "source": [
        "# Calculating the annualized average monthly return for the optimal portfolio\n",
        "avg_return = -result.fun\n",
        "print(\"\\nAnnualized average monthly return for the optimal portfolio: \", round(avg_return, 4))"
      ]
    },
    {
      "cell_type": "markdown",
      "metadata": {
        "id": "V0hOo5xv8Dht"
      },
      "source": [
        "#### 4. What was the annualized monthly standard deviation for the optimal portfolio?"
      ]
    },
    {
      "cell_type": "code",
      "execution_count": null,
      "metadata": {
        "colab": {
          "base_uri": "https://localhost:8080/"
        },
        "id": "ay7OL2RL8Dht",
        "outputId": "a9d246db-97d4-43f4-b576-d36c2bbb40a6"
      },
      "outputs": [
        {
          "name": "stdout",
          "output_type": "stream",
          "text": [
            "Annualized monthly standard deviation for the optimal portfolio:  0.0326\n"
          ]
        }
      ],
      "source": [
        "# Calculating the annualized monthly standard deviation for the optimal portfolio\n",
        "optimal_std = np.sqrt(np.dot(weights.T, np.dot(covariance, weights))) * np.sqrt(12)\n",
        "print(\"Annualized monthly standard deviation for the optimal portfolio: \", round(optimal_std, 4))"
      ]
    },
    {
      "cell_type": "markdown",
      "metadata": {
        "id": "iiKAmZm_8Dht"
      },
      "source": [
        "#### 5. What was the Sharpe Ratio of the optimal portfolio?"
      ]
    },
    {
      "cell_type": "code",
      "execution_count": null,
      "metadata": {
        "colab": {
          "base_uri": "https://localhost:8080/"
        },
        "id": "JUgFBfU_8Dhu",
        "outputId": "0392991d-a766-4a57-97bb-9f7877546b6d"
      },
      "outputs": [
        {
          "name": "stdout",
          "output_type": "stream",
          "text": [
            "Sharpe Ratio of the optimal portfolio:  10.2101\n"
          ]
        }
      ],
      "source": [
        "# Calculating the Sharpe Ratio of the optimal portfolio\n",
        "sharpe_ratio = avg_return / optimal_std\n",
        "print(\"Sharpe Ratio of the optimal portfolio: \", round(sharpe_ratio, 4))"
      ]
    },
    {
      "cell_type": "markdown",
      "metadata": {
        "id": "j8ZZvTCG8Dhu"
      },
      "source": [
        "### PART II"
      ]
    },
    {
      "cell_type": "markdown",
      "metadata": {
        "id": "Ns-Ch5KI8Dhu",
        "tags": []
      },
      "source": [
        "#### 1. Create a DataFrame named optimal_weights to store the weights from a portfolio optimization performed on a rolling basis. Specifically, the optimization should use a 60 month rolling window, and be performed every month. The first 60 months correspond to the sample period for data_initial (01/2015 - 12/2019) created in question 3. Hence, the first observation in the optimal_weights DataFrame should be the weights you listed above in Part I. The next 60 month period should be 02/2015 - 01/2020, followed by 03/2015 - 02/2020, and so on. The last 60 month period should be 03/2018 - 02/2023. Again, assume there are no short-selling constraints."
      ]
    },
    {
      "cell_type": "code",
      "execution_count": null,
      "metadata": {
        "id": "b46rZBx7MQCa"
      },
      "outputs": [],
      "source": [
        "optimal_weights = pd.DataFrame(columns=stock_list)\n",
        "\n",
        "for i in range(60, len(data) - 59):\n",
        "    window_start = data.index[i - 60]\n",
        "    window_end = data.index[i]\n",
        "    returns_window = data.loc[window_start:window_end]['Adj Close'].pct_change().dropna()\n",
        "    covariance_window = returns_window.cov().values\n",
        "    mean_returns_window = returns_window.mean().values\n",
        "    \n",
        "    result_window = minimize(objective, len(stock_list)*[1./len(stock_list)], method='SLSQP', bounds=bounds, constraints=constraints)\n",
        "    optimal_weights.loc[window_end] = result_window.x\n"
      ]
    },
    {
      "cell_type": "markdown",
      "metadata": {
        "id": "9p1Xid668Dhu",
        "tags": []
      },
      "source": [
        "#### 2. Create a new DataFrame named port_returns to store the monthly returns over the sample period 01/2020 - 02/2023 for the following portfolios:\n",
        " 1) A monthly rebalanced portfolio using the rolling optimal weights. Specifically, the portfolio return for 01/2020 should be based on the weights as of 12/2019 (the same values detailed in Part I and in the first row in the optimal_weights DataFrame), the portfolio return for 02/2020 should be based on the weights as of 01/2020 and so on. Label the portfolio (MRoll_Reb_OP, an acronym for Monthly Rolling Rebalanced Optimal Portfolio). \n",
        " 2) A monthly rebalanced portfolio using the optimal weights as of 12/2019. Label the portfolio (M_Reb_OP, an acronym for Monthly Rebalancing Optimal Portfolio).\n",
        " 3) A monthly rebalanced equally-weighted portfolio. Label the portfolio (M_Reb_EW, an acronym for Monthly Rebalancing Equally-Weighted Portfolio).\n",
        " 4) A buy and hold portfolio, initially allocated according to the optimal weights as of 12/2019. Label the portfolio (BH_OP, an acronym for Buy and Hold Optimal Portfolio).\n",
        " 5) A buy and hold portfolio, initially allocated equally across stocks. Label the portfolio (BH_EW, an acronym for Buy and Hold Equally-Weighted Portfolio)."
      ]
    },
    {
      "cell_type": "code",
      "execution_count": null,
      "metadata": {
        "colab": {
          "base_uri": "https://localhost:8080/"
        },
        "id": "AJ9aYJdeTEAe",
        "outputId": "66a4ac1b-f8b5-4908-c6df-bafd207e7ddf"
      },
      "outputs": [
        {
          "name": "stdout",
          "output_type": "stream",
          "text": [
            "[*********************100%***********************]  15 of 15 completed\n"
          ]
        }
      ],
      "source": [
        "# Get stock data for the period 01/2020 - 02/2023\n",
        "start_date_2020 = dt.datetime(2020, 1, 1)\n",
        "end_date_2023 = dt.datetime(2023, 2, 28)\n",
        "data_2020_2023 = yf.download(stock_str, start=start_date_2020, end=end_date_2023)\n",
        "returns_2020_2023 = data_2020_2023['Adj Close'].pct_change().dropna()\n",
        "\n",
        "# Initialize the DataFrame to store the monthly returns for different portfolios\n",
        "port_returns = pd.DataFrame(index=returns_2020_2023.index, columns=['MRoll_Reb_OP', 'M_Reb_OP', 'M_Reb_EW', 'BH_OP', 'BH_EW'])\n",
        "\n",
        "# Calculate monthly returns for each portfolio"
      ]
    },
    {
      "cell_type": "code",
      "execution_count": null,
      "metadata": {
        "colab": {
          "base_uri": "https://localhost:8080/"
        },
        "id": "mvG2jX0pQVeg",
        "outputId": "a36db8d3-1509-47b9-e2ba-bf8473184dc4"
      },
      "outputs": [
        {
          "name": "stdout",
          "output_type": "stream",
          "text": [
            "           MRoll_Reb_OP  M_Reb_OP  M_Reb_EW     BH_OP         BH_EW\n",
            "Date                                                               \n",
            "2020-01-03         None -0.006217 -0.008263 -0.196733  4.391325e-02\n",
            "2020-01-06         None  0.006653  0.001902 -0.191793  4.453038e-02\n",
            "2020-01-07         None -0.002234 -0.005913 -0.191741  3.856508e-02\n",
            "2020-01-08         None  0.010658  0.004525 -0.187059  4.187627e-02\n",
            "2020-01-09         None  0.013528  0.009443 -0.175999  5.047751e-02\n",
            "...                 ...       ...       ...       ...           ...\n",
            "2023-02-21         None -0.021701 -0.023312  0.011514  1.170971e-02\n",
            "2023-02-22         None -0.000330 -0.002732  0.011178  8.867154e-03\n",
            "2023-02-23         None  0.004109  0.004079  0.015311  1.295825e-02\n",
            "2023-02-24         None -0.019314 -0.012367 -0.004420  3.260084e-04\n",
            "2023-02-27         None  0.004456 -0.000262  0.000000 -1.110223e-16\n",
            "\n",
            "[793 rows x 5 columns]\n"
          ]
        }
      ],
      "source": [
        "# Calculate monthly returns for each portfolio\n",
        "last_date_before_2020_idx = data_2020_2023.index.searchsorted(start_date_2020) - 1\n",
        "last_date_before_2020 = data_2020_2023.index[last_date_before_2020_idx]\n",
        "initial_prices = data_2020_2023.loc[last_date_before_2020, 'Adj Close']\n",
        "initial_portfolio_value = 1\n",
        "\n",
        "weights_BH_OP = weights\n",
        "weights_BH_EW = np.array([1/len(stock_list)]*len(stock_list))\n",
        "\n",
        "for index, row in returns_2020_2023.iterrows():\n",
        "    prev_month = index - pd.DateOffset(months=1)\n",
        "    if prev_month in optimal_weights.index:\n",
        "        weights_MRoll_Reb_OP = optimal_weights.loc[prev_month].values\n",
        "    else:\n",
        "        weights_MRoll_Reb_OP = None\n",
        "\n",
        "    weights_M_Reb_OP = weights\n",
        "    weights_M_Reb_EW = np.array([1/len(stock_list)]*len(stock_list))\n",
        "\n",
        "    returns_row = row.values\n",
        "    port_returns.loc[index, 'MRoll_Reb_OP'] = np.dot(weights_MRoll_Reb_OP, returns_row) if weights_MRoll_Reb_OP is not None else None\n",
        "    port_returns.loc[index, 'M_Reb_OP'] = np.dot(weights_M_Reb_OP, returns_row)\n",
        "    port_returns.loc[index, 'M_Reb_EW'] = np.dot(weights_M_Reb_EW, returns_row)\n",
        "\n",
        "    current_prices = data_2020_2023.loc[index, 'Adj Close']\n",
        "    BH_OP_returns = (current_prices / initial_prices) * weights_BH_OP\n",
        "    BH_EW_returns = (current_prices / initial_prices) * weights_BH_EW\n",
        "    port_returns.loc[index, 'BH_OP'] = (np.sum(BH_OP_returns) / initial_portfolio_value) - 1\n",
        "    port_returns.loc[index, 'BH_EW'] = (np.sum(BH_EW_returns) / initial_portfolio_value) - 1\n",
        "\n",
        "# Fill any missing values with forward fill method\n",
        "port_returns.fillna(method='ffill', inplace=True)\n",
        "\n",
        "# Print the port_returns DataFrame\n",
        "print(port_returns)\n"
      ]
    },
    {
      "cell_type": "markdown",
      "metadata": {
        "id": "JPjF1jfd8Dhu"
      },
      "source": [
        "#### 3. Create a DataFrame port_stats (with a 3x5 shape) to store the annualized average monthly return, the annualized monthly standard deviation and the Sharpe ratio for all 5 portfolios."
      ]
    },
    {
      "cell_type": "code",
      "execution_count": null,
      "metadata": {
        "id": "hIfRvBsY8Dhu"
      },
      "outputs": [],
      "source": [
        "port_stats = pd.DataFrame(index=['Annualized Avg Monthly Return', 'Annualized Monthly Standard Deviation', 'Sharpe Ratio'], \n",
        "                          columns=['MRoll_Reb_OP', 'M_Reb_OP', 'M_Reb_EW', 'BH_OP', 'BH_EW'])\n",
        "\n",
        "for portfolio in port_returns.columns:\n",
        "    port_stats.loc['Annualized Avg Monthly Return', portfolio] = ((1 + port_returns[portfolio]).prod())**(12/len(port_returns[portfolio])) - 1\n",
        "    port_stats.loc['Annualized Monthly Standard Deviation', portfolio] = port_returns[portfolio].std() * np.sqrt(12)\n",
        "    port_stats.loc['Sharpe Ratio', portfolio] = port_stats.loc['Annualized Avg Monthly Return', portfolio] / port_stats.loc['Annualized Monthly Standard Deviation', portfolio]\n",
        "\n"
      ]
    },
    {
      "cell_type": "markdown",
      "metadata": {
        "id": "riRRxg9g8Dhu"
      },
      "source": [
        "#### 4. Compute the cumulative return series for all portfolios and plot them in the same graph. "
      ]
    },
    {
      "cell_type": "code",
      "execution_count": null,
      "metadata": {
        "colab": {
          "base_uri": "https://localhost:8080/",
          "height": 621
        },
        "id": "dOrqUl298Dhv",
        "outputId": "a04ad789-10aa-42ee-e77e-8640af06d455"
      },
      "outputs": [
        {
          "name": "stdout",
          "output_type": "stream",
          "text": [
            "Cumulative Returns:\n",
            "MRoll_Reb_OP nan\n",
            "M_Reb_OP 0.4385\n",
            "M_Reb_EW 0.1661\n",
            "BH_OP -1.0\n",
            "BH_EW 169660193817348.66\n"
          ]
        },
        {
          "data": {
            "image/png": "[encoded data removed]",
            "text/plain": [
              "<Figure size 1200x600 with 1 Axes>"
            ]
          },
          "metadata": {},
          "output_type": "display_data"
        }
      ],
      "source": [
        "# Calculating the cumulative return series for all portfolios and plotting them\n",
        "cumulative_returns = (1 + port_returns).cumprod() - 1\n",
        "cumulative_returns.plot(figsize=(12, 6), title='Cumulative Returns of Different Portfolios')\n",
        "\n",
        "# Printing the cumulative returns for all portfolios and finding the best and worst performing portfolios\n",
        "print(\"Cumulative Returns:\")\n",
        "for portfolio in port_returns.columns:\n",
        "    print(portfolio, round(cumulative_returns[portfolio].iloc[-1], 4))\n",
        "    \n",
        "\n"
      ]
    },
    {
      "cell_type": "markdown",
      "metadata": {
        "id": "0uqbFabP8Dhv"
      },
      "source": [
        "#### 5. What was the cumulative return for the best performing portfolio? What was the cumulative return for the worst performing portfolio?"
      ]
    },
    {
      "cell_type": "code",
      "execution_count": null,
      "metadata": {
        "colab": {
          "base_uri": "https://localhost:8080/"
        },
        "id": "lo2b8P478Dhv",
        "outputId": "605ab893-89b3-4bb8-ca11-2246ae2022e9"
      },
      "outputs": [
        {
          "name": "stdout",
          "output_type": "stream",
          "text": [
            "The best performing portfolio was MRoll_Reb_OP with a cumulative return of nan\n",
            "The worst performing portfolio was MRoll_Reb_OP with a cumulative return of nan\n"
          ]
        }
      ],
      "source": [
        "best_portfolio = cumulative_returns.columns[np.argmax(cumulative_returns.iloc[-1])]\n",
        "worst_portfolio = cumulative_returns.columns[np.argmin(cumulative_returns.iloc[-1])]\n",
        "print(\"The best performing portfolio was\", best_portfolio, \"with a cumulative return of\", round(cumulative_returns[best_portfolio].iloc[-1], 4))\n",
        "print(\"The worst performing portfolio was\", worst_portfolio, \"with a cumulative return of\", round(cumulative_returns[worst_portfolio].iloc[-1], 4))"
      ]
    },
    {
      "cell_type": "markdown",
      "metadata": {
        "id": "VwvLBjUE8Dhv"
      },
      "source": [
        "### PART III - Examination of the Size Effect"
      ]
    },
    {
      "cell_type": "markdown",
      "metadata": {
        "id": "1YHmNLmC8Dhv"
      },
      "source": [
        "Please download the file \"crsp_fall22.csv\" located in folder Group_Assignment. The file contains the following columns:\n",
        "* PERMNO - Permanent number (unique identifer for the stock)\n",
        "* DATE\n",
        "* PRC - The closing price\n",
        "* VOL - Trading volume (in hundreds)\n",
        "* RET - The simple return\n",
        "* SHROUT - The number of shares outstanding (in thousands)\n",
        "* CFACPR - Cumulative factor to adjust the closing price\n",
        "* CFACSHR - Cumulative factor to adjust shares outstanding"
      ]
    },
    {
      "cell_type": "markdown",
      "metadata": {
        "id": "F8JwxiGg8Dhv",
        "tags": []
      },
      "source": [
        "#### 1. Create a DataFrame named fin_data by reading in the columns DATE, PERMNO, RET, PRC and SHROUT from the file 'crsp_fall22.csv'. Set the DATE as the index. In addition, change each index value to the end of the month. For example, change '1926-05-30' to 1926-05-31', or '1987-01-30' to '1987-01-31'. In addition, create a new column (labeled MKTCAP) to store the market capitalization (defined as PRC * SHROUT). Subsequently, permanently remove the PRC and SHROUT columns."
      ]
    },
    {
      "cell_type": "code",
      "execution_count": null,
      "metadata": {
        "id": "GOEdz-SaSP-8"
      },
      "outputs": [],
      "source": [
        "fin_data = pd.read_csv('crsp_fall22.csv',\n",
        "                       usecols = ['PERMNO','DATE','RET','PRC','SHROUT'],\n",
        "                       dtype = {'PERMNO':np.int64},\n",
        "                       index_col ='DATE',\n",
        "                       parse_dates = True)"
      ]
    },
    {
      "cell_type": "code",
      "execution_count": null,
      "metadata": {
        "id": "MQTnJ-xn8Dhv"
      },
      "outputs": [],
      "source": [
        "fin_data.index = fin_data.index.to_period('M').to_timestamp('M') + pd.offsets.MonthEnd(0)\n",
        "fin_data['MKTCAP'] = fin_data['PRC'] * fin_data['SHROUT']\n",
        "fin_data.drop(['PRC', 'SHROUT'], axis=1, inplace=True)"
      ]
    },
    {
      "cell_type": "markdown",
      "metadata": {
        "id": "t-4f7RxF8Dhv"
      },
      "source": [
        "#### 2. How many stocks are there in the sample? How many of these stocks are in the sample over the entire sample period?"
      ]
    },
    {
      "cell_type": "code",
      "execution_count": null,
      "metadata": {
        "id": "nG7xl5uS8Dhv"
      },
      "outputs": [],
      "source": [
        "unique_stocks = fin_data['PERMNO'].nunique()\n",
        "stocks_entire_period = fin_data.groupby('PERMNO').filter(lambda x: len(x) == len(fin_data.index.unique())).nunique()['PERMNO']\n"
      ]
    },
    {
      "cell_type": "markdown",
      "metadata": {
        "id": "ea0_LGJB8Dhv",
        "tags": []
      },
      "source": [
        "#### 3. Every June, split the stocks into quintiles (five groups) based on their market capitalization. The header of a DataFrame named size_qt with the resulting split can be found below. "
      ]
    },
    {
      "cell_type": "code",
      "execution_count": null,
      "metadata": {
        "id": "jTHySyA68Dhv",
        "tags": []
      },
      "outputs": [],
      "source": [
        "june_data = fin_data[fin_data.index.month == 6]\n",
        "size_qt = june_data.groupby(june_data.index.year)['MKTCAP'].apply(lambda x: pd.qcut(x, 5, labels=False) + 1).reset_index()\n",
        "size_qt.columns = ['Year', 'PERMNO', 'Quintile']\n"
      ]
    },
    {
      "cell_type": "markdown",
      "metadata": {
        "id": "V5DIou4K8Dhw",
        "tags": []
      },
      "source": [
        "#### 4. Create a new DataFrame named data by using the merge_asof() function to merge the DataFrames fin_data and size_qt. Specifically, merge each stock's June quintile allocation with the stock's monthly returns for the next 12 months starting the following July. Subsequently, set DATE as the index in the DataFrame."
      ]
    },
    {
      "cell_type": "code",
      "execution_count": null,
      "metadata": {
        "id": "SLWtxESl8Dhw"
      },
      "outputs": [],
      "source": [
        "fin_data['Year'] = fin_data.index.year\n",
        "data = pd.merge_asof(fin_data.reset_index().sort_values(['PERMNO', 'DATE']),\n",
        "                     size_qt.sort_values(['PERMNO', 'Year']),\n",
        "                     on='DATE', by='PERMNO', by_x='Year', by_y='Year', direction='forward')\n",
        "data.set_index('DATE', inplace=True)\n"
      ]
    },
    {
      "cell_type": "markdown",
      "metadata": {
        "id": "3ImbtJM78Dhw"
      },
      "source": [
        "#### 5. Create a new DataFrame called quintiles to store the average monthly return for each quintile. The header of the DataFrame can be found below:"
      ]
    },
    {
      "cell_type": "code",
      "execution_count": null,
      "metadata": {
        "id": "-jmEh0tA8Dhw"
      },
      "outputs": [],
      "source": [
        "quintiles = data.groupby(['DATE', 'Quintile'])['RET'].mean().unstack(level=-1)\n"
      ]
    },
    {
      "cell_type": "code",
      "execution_count": null,
      "metadata": {
        "id": "njmhiKJJ8Dhw"
      },
      "outputs": [],
      "source": [
        "quintiles.head()"
      ]
    },
    {
      "cell_type": "markdown",
      "metadata": {
        "id": "tIuyLmdl8Dhw"
      },
      "source": [
        "#### 6. Create a bar plot of the average monthly return for all five market capitalization groups, across the entire sample."
      ]
    },
    {
      "cell_type": "code",
      "execution_count": null,
      "metadata": {
        "id": "w65TAgC48Dhw"
      },
      "outputs": [],
      "source": [
        "import matplotlib.pyplot as plt\n",
        "\n",
        "bar_data = quintiles.mean()\n",
        "bar_data.plot(kind='bar')\n",
        "plt.xlabel('Market Capitalization Quintiles')\n",
        "plt.ylabel('Average Monthly Return')\n",
        "plt.title('Average Monthly Returns by Market Capitalization Quintiles')\n",
        "plt.show()\n"
      ]
    },
    {
      "cell_type": "markdown",
      "metadata": {
        "id": "B2wBzK-E8Dhw"
      },
      "source": [
        "#### 7. Create a line plot of the cumulative return series for all five market capitalization groups."
      ]
    },
    {
      "cell_type": "code",
      "execution_count": null,
      "metadata": {
        "id": "zNyRBwEX8Dhw"
      },
      "outputs": [],
      "source": [
        "cumulative_returns = (1 + quintiles).cumprod()\n",
        "cumulative_returns.plot()\n",
        "plt.xlabel('Date')\n",
        "plt.ylabel('Cumulative Return')\n",
        "plt.title('Cumulative Returns by Market Capitalization Quintiles')\n",
        "plt.legend(title='Quintile')\n",
        "plt.show()\n"
      ]
    }
  ],
  "metadata": {
    "anaconda-cloud": {},
    "colab": {
      "provenance": []
    },
    "kernelspec": {
      "display_name": "Python 3 (ipykernel)",
      "language": "python",
      "name": "python3"
    },
    "language_info": {
      "codemirror_mode": {
        "name": "ipython",
        "version": 3
      },
      "file_extension": ".py",
      "mimetype": "text/x-python",
      "name": "python",
      "nbconvert_exporter": "python",
      "pygments_lexer": "ipython3",
      "version": "3.10.0"
    }
  },
  "nbformat": 4,
  "nbformat_minor": 0
}
